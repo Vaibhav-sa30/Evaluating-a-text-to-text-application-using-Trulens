{
  "cells": [
    {
      "cell_type": "markdown",
      "metadata": {
        "id": "view-in-github",
        "colab_type": "text"
      },
      "source": [
        "<a href=\"https://colab.research.google.com/github/Vaibhav-sa30/Evaluating-a-text-to-text-application-using-Trulens/blob/main/Evaluating_a_text_to_text_application_using_Trulens.ipynb\" target=\"_parent\"><img src=\"https://colab.research.google.com/assets/colab-badge.svg\" alt=\"Open In Colab\"/></a>"
      ]
    },
    {
      "cell_type": "markdown",
      "metadata": {
        "id": "JeYTuECY98K8"
      },
      "source": [
        "\n",
        "In this quickstart you will create a simple text to text application and learn how to log it and get feedback."
      ]
    },
    {
      "cell_type": "markdown",
      "metadata": {
        "id": "b_p5kHrr98K_"
      },
      "source": [
        "## Setup\n",
        "### Add API keys\n",
        "For this quickstart you will need Open AI and Huggingface keys"
      ]
    },
    {
      "cell_type": "code",
      "execution_count": null,
      "metadata": {
        "id": "zErKzyy898LA"
      },
      "outputs": [],
      "source": [
        "import os\n",
        "os.environ[\"OPENAI_API_KEY\"] = \"...\"\n",
        "os.environ[\"HUGGINGFACE_API_KEY\"] = \"...\""
      ]
    },
    {
      "cell_type": "code",
      "execution_count": null,
      "metadata": {
        "id": "9jPYLjRg98LB"
      },
      "outputs": [],
      "source": [
        "import openai\n",
        "openai.api_key = os.environ[\"OPENAI_API_KEY\"]"
      ]
    },
    {
      "cell_type": "markdown",
      "metadata": {
        "id": "FUCrsH_X98LB"
      },
      "source": [
        "### Import from TruLens"
      ]
    },
    {
      "cell_type": "code",
      "execution_count": null,
      "metadata": {
        "id": "boulsxnu98LB"
      },
      "outputs": [],
      "source": [
        "from IPython.display import JSON\n",
        "\n",
        "# Imports main tools:\n",
        "from trulens_eval import Feedback, Huggingface, Tru\n",
        "tru = Tru()"
      ]
    },
    {
      "cell_type": "markdown",
      "metadata": {
        "id": "JUWuTXJa98LC"
      },
      "source": [
        "### Create Simple Text to Text Application\n",
        "\n",
        "This example uses a bare bones OpenAI LLM, and a non-LLM just for demonstration purposes."
      ]
    },
    {
      "cell_type": "code",
      "execution_count": null,
      "metadata": {
        "id": "5MfaHjAH98LC"
      },
      "outputs": [],
      "source": [
        "def llm_standalone(prompt):\n",
        "    return openai.ChatCompletion.create(\n",
        "    model=\"gpt-3.5-turbo\",\n",
        "    messages=[\n",
        "            {\"role\": \"system\", \"content\": \"You are a question and answer bot, and you answer super upbeat.\"},\n",
        "            {\"role\": \"user\", \"content\": prompt}\n",
        "        ]\n",
        "    )[\"choices\"][0][\"message\"][\"content\"]"
      ]
    },
    {
      "cell_type": "code",
      "execution_count": null,
      "metadata": {
        "id": "2gPYp4Jr98LC"
      },
      "outputs": [],
      "source": [
        "import hashlib\n",
        "def simple_hash_callable(prompt):\n",
        "    h = hashlib.shake_256(prompt.encode('utf-8'))\n",
        "    return str(h.hexdigest(20))"
      ]
    },
    {
      "cell_type": "markdown",
      "metadata": {
        "id": "9mWfaslq98LD"
      },
      "source": [
        "### Send your first request"
      ]
    },
    {
      "cell_type": "code",
      "execution_count": null,
      "metadata": {
        "id": "Thw6BORM98LD"
      },
      "outputs": [],
      "source": [
        "prompt_input=\"How good is language AI?\"\n",
        "prompt_output=llm_standalone(prompt_input)\n",
        "prompt_output"
      ]
    },
    {
      "cell_type": "code",
      "execution_count": null,
      "metadata": {
        "id": "eAYUnavu98LD"
      },
      "outputs": [],
      "source": [
        "simple_hash_callable(prompt_input)"
      ]
    },
    {
      "cell_type": "markdown",
      "metadata": {
        "id": "K3MG0zZv98LD"
      },
      "source": [
        "## Initialize Feedback Function(s)"
      ]
    },
    {
      "cell_type": "code",
      "execution_count": null,
      "metadata": {
        "id": "wnmVJbtQ98LD"
      },
      "outputs": [],
      "source": [
        "# Initialize Huggingface-based feedback function collection class:\n",
        "hugs = Huggingface()\n",
        "\n",
        "# Define a sentiment feedback function using HuggingFace.\n",
        "f_sentiment = Feedback(hugs.positive_sentiment).on_output()"
      ]
    },
    {
      "cell_type": "markdown",
      "metadata": {
        "id": "jy9a-bJL98LD"
      },
      "source": [
        "## Instrument the callable for logging with TruLens"
      ]
    },
    {
      "cell_type": "code",
      "execution_count": null,
      "metadata": {
        "id": "taOOCrA298LD"
      },
      "outputs": [],
      "source": [
        "from trulens_eval import TruBasicApp\n",
        "basic_app = TruBasicApp(llm_standalone, app_id=\"Happy Bot\", feedbacks=[f_sentiment])\n",
        "hash_app = TruBasicApp(simple_hash_callable, app_id=\"Hasher\", feedbacks=[f_sentiment])"
      ]
    },
    {
      "cell_type": "code",
      "execution_count": null,
      "metadata": {
        "scrolled": true,
        "id": "oc3r3oIg98LE"
      },
      "outputs": [],
      "source": [
        "response, record = basic_app.call_with_record(prompt_input)"
      ]
    },
    {
      "cell_type": "code",
      "execution_count": null,
      "metadata": {
        "id": "Sq1oFHdp98LE"
      },
      "outputs": [],
      "source": [
        "response, record = hash_app.call_with_record(prompt_input)"
      ]
    },
    {
      "cell_type": "markdown",
      "metadata": {
        "id": "GI-fN1ol98LE"
      },
      "source": [
        "## Explore in a Dashboard"
      ]
    },
    {
      "cell_type": "code",
      "execution_count": null,
      "metadata": {
        "id": "eAYS2kDb98LE"
      },
      "outputs": [],
      "source": [
        "tru.run_dashboard() # open a local streamlit app to explore\n",
        "\n",
        "# tru.stop_dashboard() # stop if needed"
      ]
    },
    {
      "cell_type": "markdown",
      "metadata": {
        "id": "uggGwB1N98LE"
      },
      "source": [
        "Alternatively, you can run `trulens-eval` from a command line in the same folder to start the dashboard."
      ]
    },
    {
      "cell_type": "markdown",
      "metadata": {
        "id": "P3S2s4b498LE"
      },
      "source": [
        "## Or view results directly in your notebook"
      ]
    },
    {
      "cell_type": "code",
      "execution_count": null,
      "metadata": {
        "id": "NIHfT2G398LE"
      },
      "outputs": [],
      "source": [
        "tru.get_records_and_feedback(app_ids=[])[0] # pass an empty list of app_ids to get all"
      ]
    }
  ],
  "metadata": {
    "kernelspec": {
      "display_name": "trulens-llm-3",
      "language": "python",
      "name": "trulens-llm-3"
    },
    "language_info": {
      "codemirror_mode": {
        "name": "ipython",
        "version": 3
      },
      "file_extension": ".py",
      "mimetype": "text/x-python",
      "name": "python",
      "nbconvert_exporter": "python",
      "pygments_lexer": "ipython3",
      "version": "3.11.3"
    },
    "vscode": {
      "interpreter": {
        "hash": "d5737f6101ac92451320b0e41890107145710b89f85909f3780d702e7818f973"
      }
    },
    "colab": {
      "provenance": [],
      "include_colab_link": true
    }
  },
  "nbformat": 4,
  "nbformat_minor": 0
}